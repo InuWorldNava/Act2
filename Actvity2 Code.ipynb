{
 "cells": [
  {
   "cell_type": "code",
   "execution_count": 15,
   "id": "d25f654e-1052-45d5-afcb-174d631b677e",
   "metadata": {},
   "outputs": [
    {
     "name": "stdin",
     "output_type": "stream",
     "text": [
      "Enter a Sentence[String]:  joe. boi\n"
     ]
    },
    {
     "name": "stdout",
     "output_type": "stream",
     "text": [
      "Modified Sentence:  Joe. Boi\n"
     ]
    }
   ],
   "source": [
    "#number1\n",
    "# Take input user\n",
    "INPUTus = input(\"Enter a Sentence[String]: \")\n",
    "# string into a list of sentences based on '. 'period followed by a space\n",
    "sentences = INPUTus.split('. ')\n",
    "# Capitalize the first letter of each sentence\n",
    "capitalsen = []\n",
    "for sentences in sentences:\n",
    "    capitalsen.append(sentences.capitalize())\n",
    "# Send back capitalized sentences into a single string, with '. ' as the separator\n",
    "modSen = '. '.join(capitalsen)\n",
    "# Print modified sentence\n",
    "print(\"Modified Sentence: \", modSen)"
   ]
  },
  {
   "cell_type": "code",
   "execution_count": 2,
   "id": "cf64d393-b33a-4e4a-84b6-31549ece3968",
   "metadata": {},
   "outputs": [
    {
     "name": "stdout",
     "output_type": "stream",
     "text": [
      "A. Count 0 to 10\n",
      "0\n",
      "1\n",
      "2\n",
      "3\n",
      "4\n",
      "5\n",
      "6\n",
      "7\n",
      "8\n",
      "9\n",
      "10\n",
      "------------------------------\n",
      "B. Same as A but using range()\n",
      "0\n",
      "1\n",
      "2\n",
      "3\n",
      "4\n",
      "5\n",
      "6\n",
      "7\n",
      "8\n",
      "9\n",
      "10\n"
     ]
    }
   ],
   "source": [
    "#number2\n",
    "# Part A: Using a while loop to count from 0 to 10\n",
    "print(\"A. Count 0 to 10\")\n",
    "bilang = 0  # the counter variable\n",
    "\n",
    "# Main loop Continue looping as 'bilang' is less than or equal to 10\n",
    "while bilang <= 10:\n",
    "    print(bilang)  # Display the current value of 'bilang'\n",
    "    bilang += 1  # Increment 'bilang' by 1\n",
    "\n",
    "# Separator for part B\n",
    "print(\"------------------------------\")\n",
    "\n",
    "# Part B: Using a for loop with range() to count from 0 to 10\n",
    "print(\"B. Same as A but using range()\")\n",
    "# Loop through numbers from 0 to 10\n",
    "for i in range(11):\n",
    "    print(i)  # Display the current value of 'i'\n"
   ]
  },
  {
   "cell_type": "code",
   "execution_count": 6,
   "id": "3a434e72-4ce5-438b-b71b-1ba6ee1d7b57",
   "metadata": {},
   "outputs": [
    {
     "name": "stdin",
     "output_type": "stream",
     "text": [
      "Enter your number or type [Exit] to quit:  23\n"
     ]
    },
    {
     "name": "stdout",
     "output_type": "stream",
     "text": [
      "23 is a Positive Integer\n"
     ]
    },
    {
     "name": "stdin",
     "output_type": "stream",
     "text": [
      "Enter your number or type [Exit] to quit:  0\n"
     ]
    },
    {
     "name": "stdout",
     "output_type": "stream",
     "text": [
      "0 is a Neutral Integer\n"
     ]
    },
    {
     "name": "stdin",
     "output_type": "stream",
     "text": [
      "Enter your number or type [Exit] to quit:  -9\n"
     ]
    },
    {
     "name": "stdout",
     "output_type": "stream",
     "text": [
      "-9 is a Negative Integer\n"
     ]
    },
    {
     "name": "stdin",
     "output_type": "stream",
     "text": [
      "Enter your number or type [Exit] to quit:  exit\n"
     ]
    },
    {
     "name": "stdout",
     "output_type": "stream",
     "text": [
      "Thank you for using me, please don't use me again.\n"
     ]
    }
   ],
   "source": [
    "#number3\n",
    "while True:\n",
    "    userInput = input(\"Enter your number or type [Exit] to quit: \")\n",
    "\n",
    "    # Check for exit command\n",
    "    if userInput.lower() == 'exit':\n",
    "        print(\"Thank you for using me, please don't use me again.\")\n",
    "        break\n",
    "    try:\n",
    "        # Try converting input to integer\n",
    "        number = int(userInput)\n",
    "    except ValueError:\n",
    "        print(\"Invalid input, please try again.\")\n",
    "        continue\n",
    "\n",
    "    # Check if number is positive, negative, or zero\n",
    "    if number > 0:\n",
    "        print(number, \"is a Positive Integer\")\n",
    "    elif number < 0:\n",
    "        print(number, \"is a Negative Integer\")\n",
    "    else:\n",
    "        print(number, \"is a Neutral Integer\")"
   ]
  },
  {
   "cell_type": "code",
   "execution_count": 1,
   "id": "a35bdacc-7181-4c14-9074-30c38990c212",
   "metadata": {},
   "outputs": [
    {
     "name": "stdin",
     "output_type": "stream",
     "text": [
      "Enter your Sentence:  hello\n"
     ]
    },
    {
     "name": "stdout",
     "output_type": "stream",
     "text": [
      "A. using while loop\n",
      "h\n",
      "e\n",
      "l\n",
      "l\n",
      "o\n",
      "-----------------------------------\n",
      "B. using for loop\n",
      "h\n",
      "e\n",
      "l\n",
      "l\n",
      "o\n"
     ]
    }
   ],
   "source": [
    "# Get user input\n",
    "user = input(\"Enter your Sentence: \")  # Prompt the user to enter a sentence\n",
    "\n",
    "# Initialize index and determine the length of the user input\n",
    "index = 0\n",
    "length = len(user)\n",
    "\n",
    "# A. Using while loop\n",
    "print(\"A. using while loop\")\n",
    "while index < length:\n",
    "    print(user[index])  # Print each character using while loop\n",
    "    index += 1  # Increment the index\n",
    "\n",
    "print(\"-----------------------------------\")\n",
    "\n",
    "# B. Using for loop\n",
    "print(\"B. using for loop\")\n",
    "for char in user:\n",
    "    print(char)  # Print each character using for loop"
   ]
  },
  {
   "cell_type": "code",
   "execution_count": 4,
   "id": "736009ee-0976-4af4-81f3-786d22c1734c",
   "metadata": {},
   "outputs": [
    {
     "name": "stdout",
     "output_type": "stream",
     "text": [
      "260\n"
     ]
    }
   ],
   "source": [
    "# A. Fixed list of numbers\n",
    "number = [23, 21, 67, 80, 69]  # Define a list of fixed numbers\n",
    "\n",
    "# Calculate the sum of the fixed list\n",
    "sum_fixed = sum(number)  # Use the sum() function to sum the elements in the list\n",
    "# Print the sum of the fixed list\n",
    "print(sum_fixed)  # Output the result"
   ]
  },
  {
   "cell_type": "code",
   "execution_count": 5,
   "id": "a780da9e-2dec-42f7-9e77-fc1f59ea4bbc",
   "metadata": {},
   "outputs": [
    {
     "name": "stdout",
     "output_type": "stream",
     "text": [
      "Enter your Numbers:\n"
     ]
    },
    {
     "name": "stdin",
     "output_type": "stream",
     "text": [
      "Number 1:  12\n",
      "Number 2:  34\n",
      "Number 3:  67\n",
      "Number 4:  34\n",
      "Number 5:  56\n"
     ]
    },
    {
     "name": "stdout",
     "output_type": "stream",
     "text": [
      "Sum of Numbers: 203\n"
     ]
    }
   ],
   "source": [
    "# B. Using a while loop to input numbers and calculate their sum\n",
    "\n",
    "number = []  # Initialize an empty list to store numbers\n",
    "print(\"Enter your Numbers:\")\n",
    "count = 0  # Initialize a counter\n",
    "# Loop to input numbers\n",
    "while count < 5:  # Repeat until 5 numbers are entered\n",
    "    num = int(input(f\"Number {count+1}: \"))  # Prompt user for input and convert to integer\n",
    "    number.append(num)  # Add the number to the list\n",
    "    count += 1  # Increment the counter\n",
    "summy = sum(number)  # Calculate the sum of the numbers in the list\n",
    "print(f\"Sum of Numbers:\", summy)  # Print the sum of the numbers"
   ]
  },
  {
   "cell_type": "code",
   "execution_count": 6,
   "id": "4d672974-18ff-4541-b760-cfeb7f92e501",
   "metadata": {},
   "outputs": [
    {
     "name": "stdout",
     "output_type": "stream",
     "text": [
      "Enter your Numbers:\n"
     ]
    },
    {
     "name": "stdin",
     "output_type": "stream",
     "text": [
      "Number 1:  23\n",
      "Number 2:  67\n",
      "Number 3:  45\n",
      "Number 4:  67\n",
      "Number 5:  34\n"
     ]
    },
    {
     "name": "stdout",
     "output_type": "stream",
     "text": [
      "Sum of Numbers: 236\n"
     ]
    }
   ],
   "source": [
    "# C. Using a for loop with range to input numbers and calculate their sum\n",
    "\n",
    "number = []  # Initialize an empty list to store numbers\n",
    "print(\"Enter your Numbers:\")\n",
    "# Loop to input numbers using range\n",
    "for i in range(5):  # Iterate 5 times\n",
    "    num = int(input(f\"Number {i+1}: \"))  # Prompt user for input and convert to integer\n",
    "    number.append(num)  # Add the number to the list\n",
    "summy = sum(number)  # Calculate the sum of the numbers in the list\n",
    "print(f\"Sum of Numbers:\", summy)  # Print the sum of the numbers"
   ]
  }
 ],
 "metadata": {
  "kernelspec": {
   "display_name": "Python 3 (ipykernel)",
   "language": "python",
   "name": "python3"
  },
  "language_info": {
   "codemirror_mode": {
    "name": "ipython",
    "version": 3
   },
   "file_extension": ".py",
   "mimetype": "text/x-python",
   "name": "python",
   "nbconvert_exporter": "python",
   "pygments_lexer": "ipython3",
   "version": "3.11.7"
  }
 },
 "nbformat": 4,
 "nbformat_minor": 5
}
